{
 "cells": [
  {
   "cell_type": "code",
   "execution_count": 1,
   "metadata": {},
   "outputs": [
    {
     "name": "stdout",
     "output_type": "stream",
     "text": [
      "pygame 2.5.2 (SDL 2.28.2, Python 3.8.17)\n",
      "Hello from the pygame community. https://www.pygame.org/contribute.html\n"
     ]
    }
   ],
   "source": [
    "import gymnasium as gym\n",
    "\n",
    "from env import SlidingEnv\n",
    "import wrappers"
   ]
  },
  {
   "cell_type": "code",
   "execution_count": 2,
   "metadata": {},
   "outputs": [],
   "source": [
    "gym.envs.register(\n",
    "    id=\"SlidingEnv-v0\",\n",
    "    entry_point=SlidingEnv,\n",
    "    max_episode_steps=1000,\n",
    ")"
   ]
  },
  {
   "cell_type": "code",
   "execution_count": 4,
   "metadata": {},
   "outputs": [
    {
     "data": {
      "text/plain": [
       "(array([[[  0,   0,   0],\n",
       "         [  0,   0,   0],\n",
       "         [  0,   0,   0],\n",
       "         ...,\n",
       "         [211, 204, 192],\n",
       "         [211, 203, 192],\n",
       "         [210, 202, 191]],\n",
       " \n",
       "        [[  0,   0,   0],\n",
       "         [  0,   0,   0],\n",
       "         [  0,   0,   0],\n",
       "         ...,\n",
       "         [206, 201, 189],\n",
       "         [205, 201, 189],\n",
       "         [204, 200, 188]],\n",
       " \n",
       "        [[  0,   0,   0],\n",
       "         [  0,   0,   0],\n",
       "         [  0,   0,   0],\n",
       "         ...,\n",
       "         [200, 201, 188],\n",
       "         [199, 200, 187],\n",
       "         [199, 199, 187]],\n",
       " \n",
       "        ...,\n",
       " \n",
       "        [[  3,   1,   0],\n",
       "         [  1,   1,   1],\n",
       "         [  4,   1,   0],\n",
       "         ...,\n",
       "         [ 49,  34,  31],\n",
       "         [ 41,  28,  25],\n",
       "         [ 38,  24,  22]],\n",
       " \n",
       "        [[  5,   1,   1],\n",
       "         [  0,   1,   1],\n",
       "         [  3,   1,   0],\n",
       "         ...,\n",
       "         [ 62,  44,  39],\n",
       "         [ 58,  40,  33],\n",
       "         [ 36,  23,  20]],\n",
       " \n",
       "        [[  6,   1,   1],\n",
       "         [  0,   1,   1],\n",
       "         [  3,   1,   0],\n",
       "         ...,\n",
       "         [ 60,  41,  36],\n",
       "         [ 57,  39,  33],\n",
       "         [ 31,  21,  18]]], dtype=uint8),\n",
       " {})"
      ]
     },
     "execution_count": 4,
     "metadata": {},
     "output_type": "execute_result"
    }
   ],
   "source": [
    "env = gym.make(\"SlidingEnv-v0\")\n",
    "env = wrappers.ImagePuzzleWrapper(env)\n",
    "env.reset()"
   ]
  },
  {
   "cell_type": "code",
   "execution_count": 5,
   "metadata": {},
   "outputs": [
    {
     "name": "stderr",
     "output_type": "stream",
     "text": [
      "Aborted\n"
     ]
    }
   ],
   "source": [
    "env.render()"
   ]
  }
 ],
 "metadata": {
  "kernelspec": {
   "display_name": "dreamer",
   "language": "python",
   "name": "python3"
  },
  "language_info": {
   "codemirror_mode": {
    "name": "ipython",
    "version": 3
   },
   "file_extension": ".py",
   "mimetype": "text/x-python",
   "name": "python",
   "nbconvert_exporter": "python",
   "pygments_lexer": "ipython3",
   "version": "3.8.17"
  }
 },
 "nbformat": 4,
 "nbformat_minor": 2
}
