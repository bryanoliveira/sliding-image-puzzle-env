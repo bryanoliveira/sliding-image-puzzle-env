{
 "cells": [
  {
   "cell_type": "code",
   "execution_count": null,
   "metadata": {},
   "outputs": [],
   "source": [
    "%load_ext autoreload\n",
    "%autoreload 2"
   ]
  },
  {
   "cell_type": "code",
   "execution_count": null,
   "metadata": {},
   "outputs": [],
   "source": [
    "import datetime\n",
    "import yaml\n",
    "\n",
    "import gymnasium as gym\n",
    "import numpy as np\n",
    "from stable_baselines3 import PPO\n",
    "from stable_baselines3.common.env_util import make_vec_env\n",
    "\n",
    "from env import SlidingEnv\n",
    "from wrappers import NormalizedObsWrapper"
   ]
  },
  {
   "cell_type": "code",
   "execution_count": null,
   "metadata": {},
   "outputs": [],
   "source": [
    "configs = {\n",
    "    \"total_timesteps\": 1000000,\n",
    "\n",
    "    \"env_kwargs\": {\"w\": 2, \"h\": 2, \"shuffle_steps\": 5},\n",
    "    \"n_envs\": 16,\n",
    "    \"wrapper_class\": NormalizedObsWrapper,\n",
    "\n",
    "    \"max_episode_steps\": 100,\n",
    "    \"seed\": 42,\n",
    "}"
   ]
  },
  {
   "cell_type": "code",
   "execution_count": null,
   "metadata": {},
   "outputs": [],
   "source": [
    "gym.envs.register(\n",
    "    id=\"SlidingEnv-v0\",\n",
    "    entry_point=SlidingEnv,\n",
    "    max_episode_steps=configs[\"max_episode_steps\"],\n",
    ")\n",
    "\n",
    "env = gym.make(\"SlidingEnv-v0\", **configs[\"env_kwargs\"])\n",
    "env.reset()"
   ]
  },
  {
   "cell_type": "code",
   "execution_count": null,
   "metadata": {},
   "outputs": [],
   "source": [
    "env = make_vec_env(\n",
    "    env_id=\"SlidingEnv-v0\",\n",
    "    seed=configs[\"seed\"],\n",
    "    wrapper_class=configs[\"wrapper_class\"],\n",
    "    env_kwargs=configs[\"env_kwargs\"],\n",
    "    n_envs=configs[\"n_envs\"],\n",
    ")"
   ]
  },
  {
   "cell_type": "code",
   "execution_count": null,
   "metadata": {},
   "outputs": [],
   "source": [
    "run_id = datetime.datetime.now().strftime('%Y%m%d-%H%M%S')\n",
    "model = PPO(\n",
    "    \"MlpPolicy\",\n",
    "    env,\n",
    "    # verbose=2,\n",
    "    tensorboard_log=f\"runs/{run_id}\",\n",
    ")"
   ]
  },
  {
   "cell_type": "code",
   "execution_count": null,
   "metadata": {},
   "outputs": [],
   "source": [
    "model.learn(\n",
    "    total_timesteps=configs[\"total_timesteps\"],\n",
    "    progress_bar=True,\n",
    ")"
   ]
  },
  {
   "cell_type": "code",
   "execution_count": null,
   "metadata": {},
   "outputs": [],
   "source": [
    "configs[\"run_id\"] = run_id\n",
    "with open(f\"runs/{run_id}/configs.yaml\", \"w\") as f:\n",
    "    yaml.dump(configs, f)\n",
    "model.save(f\"runs/{run_id}/model\")"
   ]
  }
 ],
 "metadata": {
  "kernelspec": {
   "display_name": "dreamer",
   "language": "python",
   "name": "python3"
  },
  "language_info": {
   "codemirror_mode": {
    "name": "ipython",
    "version": 3
   },
   "file_extension": ".py",
   "mimetype": "text/x-python",
   "name": "python",
   "nbconvert_exporter": "python",
   "pygments_lexer": "ipython3",
   "version": "3.8.17"
  }
 },
 "nbformat": 4,
 "nbformat_minor": 2
}
